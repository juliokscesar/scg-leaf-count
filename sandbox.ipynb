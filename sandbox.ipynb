{
 "cells": [
  {
   "cell_type": "markdown",
   "id": "1dd0007e-5619-4437-8582-945e85511c70",
   "metadata": {},
   "source": [
    "# Color Analysis"
   ]
  },
  {
   "cell_type": "code",
   "execution_count": null,
   "id": "b70380ce-d5bb-4856-814e-bcf396e78ccd",
   "metadata": {},
   "outputs": [],
   "source": [
    "from analyze import analyze_color_histogram\n",
    "from scg_detection_tools.models import YOLO_NAS, YOLOv8\n",
    "from scg_detection_tools.detect import Detector\n",
    "from scg_detection_tools.utils.file_handling import read_yaml\n",
    "import matplotlib.pyplot as plt\n",
    "import numpy as np\n",
    "import pandas as pd\n",
    "from pandas.plotting import scatter_matrix\n",
    "import cv2\n",
    "\n",
    "cfg = read_yaml(\"analyze_config.yaml\")\n",
    "#model = YOLOv8(yolov8_ckpt_path=cfg[\"yolov8_model_path\"])\n",
    "model = YOLO_NAS(model_arch=cfg[\"yolonas_arch\"], \n",
    "                 checkpoint_path=cfg[\"yolonas_model_path\"], \n",
    "                 classes=cfg[\"data_classes\"])\n",
    "det_params = cfg[\"detect_parameters\"]\n",
    "det_params[\"embed_slice_callback\"] = None\n",
    "det = Detector(detection_model=model, detection_params=det_params)\n"
   ]
  },
  {
   "cell_type": "code",
   "execution_count": null,
   "id": "bccd930a-3420-4bd3-afa2-2dbf70c74a0c",
   "metadata": {},
   "outputs": [],
   "source": [
    "IMG_DIR = \"/home/julio/Dev/SCG_IFSC/datasets/gen-leaf-dataset-v4/train/images\"\n",
    "LBL_DIR = \"/home/julio/Dev/SCG_IFSC/datasets/gen-leaf-dataset-v4/train/labels\"\n",
    "\n",
    "imgs = [\n",
    "    #f\"{IMG_DIR}/0_640x640_png.rf.e445f1e2ec7d5f09191bbfac000f8274.jpg\",\n",
    "    #f\"{IMG_DIR}/1_640x640_png.rf.c186ca44871ae1749eec239fad71fa84.jpg\",\n",
    "    #f\"{IMG_DIR}/3_640x640_sparse_png.rf.4be15566a8c7a2ba76e1fc057f0755a3.jpg\",\n",
    "    #f\"{IMG_DIR}/e6_png.rf.517fd5fb9cbeb985254297ed7bad1d86.jpg\",\n",
    "    f\"{IMG_DIR}/copiae4.jpg\"\n",
    "]\n",
    "#dets = det(imgs[0])[0]\n",
    "print(\"New\")\n",
    "img_hists = analyze_color_histogram(model=model, detector=det, imgs=imgs, raw=False, on_detection_boxes=False, seg_annotations=LBL_DIR, cspaces=[\"RGB\", \"HSV\", \"GRAY\"], show=True)\n"
   ]
  },
  {
   "cell_type": "code",
   "execution_count": null,
   "id": "aaa552f6-f4d7-478b-875b-0e07a198ba4f",
   "metadata": {},
   "outputs": [],
   "source": [
    "#print(len(dets.xyxy))\n",
    "print(len(img_hists[imgs[0]][\"RGB\"][\"full\"]))\n",
    "print(len(img_hists[imgs[0]][\"RGB\"][\"masks\"]))\n"
   ]
  },
  {
   "cell_type": "code",
   "execution_count": null,
   "id": "ce2bb6cf-1256-4cd2-b132-47aee92ce337",
   "metadata": {},
   "outputs": [],
   "source": [
    "cspaceAnalysis = {\"RGB\": [], \"HSV\": []}\n",
    "intensities = np.arange(256)\n",
    "for img in img_hists:\n",
    "    img_hist = img_hists[img]\n",
    "    for cspace in cspaceAnalysis:\n",
    "        for mask_hist in img_hist[cspace][\"masks\"]:\n",
    "            r_hist, g_hist, b_hist = mask_hist\n",
    "                \n",
    "            r_mean = np.sum(intensities*r_hist)/np.sum(r_hist)\n",
    "            r_std = np.sqrt(np.sum((intensities - r_mean) ** 2 * r_hist) / np.sum(r_hist))\n",
    "            \n",
    "            g_mean = np.sum(intensities*g_hist)/np.sum(g_hist)\n",
    "            g_std = np.sqrt(np.sum((intensities - g_mean) ** 2 * g_hist) / np.sum(g_hist))\n",
    "                \n",
    "            b_mean = np.sum(intensities*b_hist)/np.sum(b_hist)\n",
    "            b_std = np.sqrt(np.sum((intensities - b_mean) ** 2 * b_hist) / np.sum(b_hist))\n",
    "        \n",
    "            print(r_mean, g_mean, b_mean, r_std, g_std, b_std)\n",
    "            cspaceAnalysis[cspace].append([r_mean, g_mean, b_mean, r_std, g_std, b_std, cspace])\n",
    "\n",
    "\n",
    "\n",
    "rgbdf = pd.DataFrame(cspaceAnalysis[\"RGB\"], columns=[\n",
    "    \"R Mean\", \"G Mean\", \"B Mean\", \"R std\", \"G std\", \"B std\", \"ColorSpace\"\n",
    "])\n",
    "hsvdf = pd.DataFrame(cspaceAnalysis[\"HSV\"], columns=[\n",
    "    \"H Mean\", \"S Mean\", \"V Mean\", \"H std\", \"S std\", \"V std\", \"ColorSpace\"\n",
    "])\n",
    "\n",
    "scatter_matrix(rgbdf.iloc[:,:-1], figsize=(12,12), diagonal=\"kde\")\n",
    "scatter_matrix(hsvdf.iloc[:,:-1], figsize=(12,12), diagonal=\"kde\")\n",
    "\n",
    "print(rgbdf.corr(numeric_only=True))\n",
    "print(hsvdf.corr(numeric_only=True))"
   ]
  },
  {
   "cell_type": "markdown",
   "id": "478f269d-4b5a-4ee7-a059-1e375344c8df",
   "metadata": {},
   "source": [
    "# Pixel density"
   ]
  },
  {
   "cell_type": "code",
   "execution_count": null,
   "id": "d8fa0ce2-ddfd-49c4-81cd-5e3d6cd0d682",
   "metadata": {},
   "outputs": [],
   "source": [
    "from analyze import analyze_pixel_density\n",
    "\n",
    "IMG_DIR = \"/home/julio/Dev/SCG_IFSC/scg-leaf-count/imgs/test\"\n",
    "LBL_DIR = \"/home/julio/Dev/SCG_IFSC/scg-leaf-count/imgs/testlabels\"\n",
    "\n",
    "imgs = [\n",
    "    f\"{IMG_DIR}/e1.png\",\n",
    "    f\"{IMG_DIR}/e3.png\",\n",
    "    f\"{IMG_DIR}/e4.png\",\n",
    "]\n",
    "\n",
    "densities = analyze_pixel_density(model=model, \n",
    "                                  detector=det, \n",
    "                                  imgs=imgs, \n",
    "                                  cfg=cfg, \n",
    "                                  on_slice=False, \n",
    "                                  on_detection_boxes=False,\n",
    "                                  on_crops=True,\n",
    "                                  seg_annotations=None, \n",
    "                                  save_detections=False)\n",
    "print(densities)"
   ]
  }
 ],
 "metadata": {
  "kernelspec": {
   "display_name": "Python 3 (ipykernel)",
   "language": "python",
   "name": "python3"
  },
  "language_info": {
   "codemirror_mode": {
    "name": "ipython",
    "version": 3
   },
   "file_extension": ".py",
   "mimetype": "text/x-python",
   "name": "python",
   "nbconvert_exporter": "python",
   "pygments_lexer": "ipython3",
   "version": "3.10.14"
  }
 },
 "nbformat": 4,
 "nbformat_minor": 5
}
