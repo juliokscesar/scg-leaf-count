{
 "cells": [
  {
   "cell_type": "markdown",
   "id": "1dd0007e-5619-4437-8582-945e85511c70",
   "metadata": {},
   "source": [
    "# Color Analysis"
   ]
  },
  {
   "cell_type": "code",
   "execution_count": 1,
   "id": "b70380ce-d5bb-4856-814e-bcf396e78ccd",
   "metadata": {},
   "outputs": [
    {
     "name": "stderr",
     "output_type": "stream",
     "text": [
      "[2024-09-04 11:20:18] INFO - checkpoint_utils.py - Successfully loaded model weights from /home/julio/Dev/SCG_IFSC/checkpoints/yolonas/large/train2/ckpt_best.pth EMA checkpoint.\n"
     ]
    }
   ],
   "source": [
    "from analyze import analyze_color_histogram\n",
    "from scg_detection_tools.models import YOLO_NAS, YOLOv8\n",
    "from scg_detection_tools.detect import Detector\n",
    "from scg_detection_tools.utils.file_handling import read_yaml\n",
    "import matplotlib.pyplot as plt\n",
    "import numpy as np\n",
    "import pandas as pd\n",
    "from pandas.plotting import scatter_matrix\n",
    "import cv2\n",
    "\n",
    "cfg = read_yaml(\"analyze_config.yaml\")\n",
    "#model = YOLOv8(yolov8_ckpt_path=cfg[\"yolov8_model_path\"])\n",
    "model = YOLO_NAS(model_arch=cfg[\"yolonas_arch\"], \n",
    "                 checkpoint_path=cfg[\"yolonas_model_path\"], \n",
    "                 classes=cfg[\"data_classes\"])\n",
    "det_params = cfg[\"detect_parameters\"]\n",
    "det_params[\"embed_slice_callback\"] = None\n",
    "det = Detector(detection_model=model, detection_params=det_params)\n"
   ]
  },
  {
   "cell_type": "code",
   "execution_count": null,
   "id": "bccd930a-3420-4bd3-afa2-2dbf70c74a0c",
   "metadata": {},
   "outputs": [],
   "source": [
    "from scg_detection_tools.utils.file_handling import get_all_files_from_paths\n",
    "\n",
    "IMG_DIR = \"/home/julio/Dev/SCG_IFSC/save/light_group_annotations/images\"\n",
    "LBL_DIR = \"/home/julio/Dev/SCG_IFSC/save/light_group_annotations/labels\"\n",
    "\n",
    "IMG_DIR = \"/home/julio/Dev/SCG_IFSC/save/light_group_annotations/images\"\n",
    "imgs = get_all_files_from_paths(IMG_DIR)\n",
    "LBL_DIR = \"/home/julio/Dev/SCG_IFSC/save/light_group_annotations/labels\"\n",
    "\n",
    "\n",
    "#IMG_DIR = \"/home/julio/Dev/SCG_IFSC/save/hemacias\"\n",
    "#imgs = get_all_files_from_paths(IMG_DIR)\n",
    "\n",
    "\n",
    "img_hists = analyze_color_histogram(model=model, detector=det, imgs=imgs, raw=False, on_detection_boxes=False, seg_annotations=LBL_DIR, cspaces=[\"RGB\", \"HSV\", \"GRAY\"], show=True, save_plots=False)\n"
   ]
  },
  {
   "cell_type": "code",
   "execution_count": null,
   "id": "524f61d7-497f-4a46-9982-1e269442e63c",
   "metadata": {},
   "outputs": [],
   "source": [
    "import os\n",
    "for img in imgs:\n",
    "    fig, axs = plt.subplots(nrows=2, ncols=3, figsize=(12,8))\n",
    "    \n",
    "    rgb = cv2.imread(img)\n",
    "    rgb = cv2.cvtColor(rgb, cv2.COLOR_BGR2RGB)\n",
    "    hsv = cv2.cvtColor(rgb.copy(), cv2.COLOR_RGB2HSV)\n",
    "\n",
    "    for ci, cp in enumerate([rgb, hsv]):\n",
    "        for i in range(3):\n",
    "            ch = cp.copy()\n",
    "            for j in range(3):\n",
    "                if i != j:\n",
    "                    ch[:,:,j] = 0\n",
    "            axs[ci][i].axis(\"off\")\n",
    "            axs[ci][i].imshow(ch)\n",
    "    fig.savefig(f\"exp_analysis/singlechannel_{os.path.basename(img)}\")\n",
    "    plt.show()"
   ]
  },
  {
   "cell_type": "code",
   "execution_count": null,
   "id": "ce2bb6cf-1256-4cd2-b132-47aee92ce337",
   "metadata": {},
   "outputs": [],
   "source": [
    "cspaceAnalysis = {\"RGB\": [], \"HSV\": [], \"GRAY\": [], \"ALL\": []}\n",
    "nclass = {0: \"light\", 1: \"medium\", 2: \"dark\", 3: \"dead\"}\n",
    "intensities = np.arange(256)\n",
    "\n",
    "for img in img_hists:\n",
    "    img_hist = img_hists[img]\n",
    "    for cspace in [\"RGB\", \"HSV\", \"GRAY\"]:\n",
    "        for mask_hist in img_hist[cspace][\"masks\"]:\n",
    "            hist = mask_hist[\"hist\"]\n",
    "            mask_class = nclass[mask_hist[\"class\"]]\n",
    "\n",
    "            ch_stats = []\n",
    "            for ch_hist in hist:\n",
    "                ch_mean = np.sum(intensities * ch_hist) / np.sum(ch_hist)\n",
    "                ch_std = np.sqrt(np.sum((intensities - ch_mean) ** 2 * ch_hist) / np.sum(ch_hist))\n",
    "                ch_stats.append([ch_mean, ch_std])\n",
    "            \n",
    "            ch_stats = np.array(ch_stats).T.ravel().tolist()\n",
    "            ch_stats.append(mask_class)\n",
    "            cspaceAnalysis[cspace].append(ch_stats)\n",
    "\n",
    "\n",
    "num_masks = len(cspaceAnalysis[\"RGB\"])\n",
    "all_mean = []\n",
    "all_std = []\n",
    "all_class = [data[-1] for data in cspaceAnalysis[\"RGB\"]]\n",
    "\n",
    "for maskidx in range(num_masks):\n",
    "    all_mean.append([])\n",
    "    all_std.append([])\n",
    "    for cspace in [\"RGB\", \"HSV\", \"GRAY\"]:\n",
    "        data = cspaceAnalysis[cspace][maskidx]\n",
    "        if cspace == \"GRAY\":\n",
    "            ch_mean = data[0]\n",
    "            ch_std = data[1]\n",
    "            all_mean[-1].append(ch_mean)\n",
    "            all_std[-1].append(ch_std)\n",
    "        else:\n",
    "            ch_mean = data[:3]\n",
    "            ch_std = data[3:-1]\n",
    "            all_mean[-1].extend(ch_mean)\n",
    "            all_std[-1].extend(ch_std)\n",
    "for i in range(num_masks):\n",
    "    cspaceAnalysis[\"ALL\"].append([])\n",
    "    \n",
    "    cspaceAnalysis[\"ALL\"][i].extend(all_mean[i])\n",
    "    cspaceAnalysis[\"ALL\"][i].extend(all_std[i])\n",
    "    cspaceAnalysis[\"ALL\"][i].append(all_class[i])\n",
    "\n",
    "rgbdf = pd.DataFrame(cspaceAnalysis[\"RGB\"], columns=[\n",
    "    \"R Mean\", \"G Mean\", \"B Mean\", \"R std\", \"G std\", \"B std\", \"Class\"\n",
    "])\n",
    "hsvdf = pd.DataFrame(cspaceAnalysis[\"HSV\"], columns=[\n",
    "    \"H Mean\", \"S Mean\", \"V Mean\", \"H std\", \"S std\", \"V std\", \"Class\"\n",
    "])\n",
    "graydf = pd.DataFrame(cspaceAnalysis[\"GRAY\"], columns=[\n",
    "    \"Gray mean\", \"Gray std\", \"Class\"\n",
    "])\n",
    "\n",
    "alldf = pd.DataFrame(cspaceAnalysis[\"ALL\"], columns=[\n",
    "    \"R Mean\", \"G Mean\", \"B Mean\", \"H Mean\", \"S Mean\", \"V Mean\", \"Gray mean\", \"R std\", \"G std\", \"B std\", \"H std\", \"S std\", \"V std\", \"Gray std\", \"Class\"\n",
    "])\n",
    "\n",
    "class_color = lambda df: df[\"Class\"].map({\n",
    "    \"light\": \"b\", \n",
    "    \"medium\": \"g\", \n",
    "    \"dark\": \"r\", \n",
    "    \"dead\": \"k\"\n",
    "})\n",
    "\n",
    "scatter_matrix(rgbdf.iloc[:,:-1], figsize=(12,12), diagonal=\"kde\", c=class_color(rgbdf))\n",
    "scatter_matrix(hsvdf.iloc[:,:-1], figsize=(12,12), diagonal=\"kde\", c=class_color(hsvdf))\n",
    "scatter_matrix(graydf.iloc[:,:-1], figsize=(12,12), diagonal=\"kde\", c=class_color(graydf))\n",
    "scatter_matrix(alldf.iloc[:,:-1], figsize=(20,20), diagonal=\"kde\", c=class_color(alldf))\n",
    "\n",
    "print(rgbdf.corr(numeric_only=True))\n",
    "print(hsvdf.corr(numeric_only=True))\n",
    "print(graydf.corr(numeric_only=True))"
   ]
  },
  {
   "cell_type": "code",
   "execution_count": null,
   "id": "4eb8ab17-2468-4550-a8b3-7d695800d30e",
   "metadata": {},
   "outputs": [],
   "source": [
    "print(len(img_hists[imgs[0]][\"RGB\"][\"masks\"]))"
   ]
  },
  {
   "cell_type": "markdown",
   "id": "478f269d-4b5a-4ee7-a059-1e375344c8df",
   "metadata": {},
   "source": [
    "# Pixel density"
   ]
  },
  {
   "cell_type": "code",
   "execution_count": 6,
   "id": "d8fa0ce2-ddfd-49c4-81cd-5e3d6cd0d682",
   "metadata": {},
   "outputs": [
    {
     "name": "stdout",
     "output_type": "stream",
     "text": [
      "['/home/julio/Dev/SCG_IFSC/scg-leaf-count/imgs/analysis/0.png', '/home/julio/Dev/SCG_IFSC/scg-leaf-count/imgs/analysis/1.png', '/home/julio/Dev/SCG_IFSC/scg-leaf-count/imgs/analysis/2.png', '/home/julio/Dev/SCG_IFSC/scg-leaf-count/imgs/analysis/3.png', '/home/julio/Dev/SCG_IFSC/scg-leaf-count/imgs/analysis/4.png', '/home/julio/Dev/SCG_IFSC/scg-leaf-count/imgs/analysis/5.png', '/home/julio/Dev/SCG_IFSC/scg-leaf-count/imgs/analysis/6.png', '/home/julio/Dev/SCG_IFSC/scg-leaf-count/imgs/analysis/7.png', '/home/julio/Dev/SCG_IFSC/scg-leaf-count/imgs/analysis/8.png', '/home/julio/Dev/SCG_IFSC/scg-leaf-count/imgs/analysis/9.png', '/home/julio/Dev/SCG_IFSC/scg-leaf-count/imgs/analysis/10.png', '/home/julio/Dev/SCG_IFSC/scg-leaf-count/imgs/analysis/11.png']\n"
     ]
    },
    {
     "name": "stderr",
     "output_type": "stream",
     "text": [
      "[2024-09-04 11:23:24] INFO - build_sam.py - Loaded checkpoint sucessfully\n"
     ]
    },
    {
     "data": {
      "image/png": "[encoded data removed]",
      "text/plain": [
       "<Figure size 640x480 with 1 Axes>"
      ]
     },
     "metadata": {},
     "output_type": "display_data"
    },
    {
     "name": "stdout",
     "output_type": "stream",
     "text": [
      "Calculated pixel density for each image: [('/home/julio/Dev/SCG_IFSC/scg-leaf-count/imgs/analysis/0.png', 0.21691831707656328), ('/home/julio/Dev/SCG_IFSC/scg-leaf-count/imgs/analysis/1.png', 0.2296941022907585), ('/home/julio/Dev/SCG_IFSC/scg-leaf-count/imgs/analysis/2.png', 0.20495111253224535), ('/home/julio/Dev/SCG_IFSC/scg-leaf-count/imgs/analysis/3.png', 0.2462421882248466), ('/home/julio/Dev/SCG_IFSC/scg-leaf-count/imgs/analysis/4.png', 0.2608416908347444), ('/home/julio/Dev/SCG_IFSC/scg-leaf-count/imgs/analysis/5.png', 0.2588018858189511), ('/home/julio/Dev/SCG_IFSC/scg-leaf-count/imgs/analysis/6.png', 0.26561881681056637), ('/home/julio/Dev/SCG_IFSC/scg-leaf-count/imgs/analysis/7.png', 0.2738931201144612), ('/home/julio/Dev/SCG_IFSC/scg-leaf-count/imgs/analysis/8.png', 0.2774123671734879), ('/home/julio/Dev/SCG_IFSC/scg-leaf-count/imgs/analysis/9.png', 0.2678277763726982), ('/home/julio/Dev/SCG_IFSC/scg-leaf-count/imgs/analysis/10.png', 0.28808299427365885), ('/home/julio/Dev/SCG_IFSC/scg-leaf-count/imgs/analysis/11.png', 0.29705008646245057)]\n",
      "[0.21691831707656328, 0.2296941022907585, 0.20495111253224535, 0.2462421882248466, 0.2608416908347444, 0.2588018858189511, 0.26561881681056637, 0.2738931201144612, 0.2774123671734879, 0.2678277763726982, 0.28808299427365885, 0.29705008646245057]\n"
     ]
    }
   ],
   "source": [
    "from analyze import analyze_pixel_density\n",
    "from scg_detection_tools.utils.file_handling import get_all_files_from_paths\n",
    "from pathlib import Path\n",
    "\n",
    "IMG_DIR = \"/home/julio/Dev/SCG_IFSC/scg-leaf-count/imgs/analysis\"\n",
    "LBL_DIR = \"/home/julio/Dev/SCG_IFSC/save/first_analysis_detections/out_cache/\"\n",
    "\n",
    "imgs = get_all_files_from_paths(IMG_DIR)\n",
    "\n",
    "def sort_stem(item):\n",
    "    s = Path(item).stem\n",
    "    try:\n",
    "        val = int(s)\n",
    "        return val\n",
    "    except:\n",
    "        return s\n",
    "\n",
    "imgs = sorted(imgs, key=sort_stem)\n",
    "print(imgs)\n",
    "\n",
    "densities = analyze_pixel_density(model=model, \n",
    "                                  detector=det, \n",
    "                                  imgs=imgs, \n",
    "                                  cfg=cfg, \n",
    "                                  on_slice=False, \n",
    "                                  on_detection_boxes=True,\n",
    "                                  on_crops=False,\n",
    "                                  cached_det_boxes=LBL_DIR,\n",
    "                                  seg_annotations=None, \n",
    "                                  save_detections=False)\n",
    "print(densities)"
   ]
  }
 ],
 "metadata": {
  "kernelspec": {
   "display_name": "Python 3 (ipykernel)",
   "language": "python",
   "name": "python3"
  },
  "language_info": {
   "codemirror_mode": {
    "name": "ipython",
    "version": 3
   },
   "file_extension": ".py",
   "mimetype": "text/x-python",
   "name": "python",
   "nbconvert_exporter": "python",
   "pygments_lexer": "ipython3",
   "version": "3.10.14"
  }
 },
 "nbformat": 4,
 "nbformat_minor": 5
}
