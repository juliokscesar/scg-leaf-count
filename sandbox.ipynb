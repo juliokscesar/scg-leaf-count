{
 "cells": [
  {
   "cell_type": "markdown",
   "id": "1dd0007e-5619-4437-8582-945e85511c70",
   "metadata": {},
   "source": [
    "# Color Analysis"
   ]
  },
  {
   "cell_type": "code",
   "execution_count": 1,
   "id": "b70380ce-d5bb-4856-814e-bcf396e78ccd",
   "metadata": {},
   "outputs": [
    {
     "name": "stderr",
     "output_type": "stream",
     "text": [
      "[2024-08-31 18:30:50] INFO - crash_tips_setup.py - Crash tips is enabled. You can set your environment variable to CRASH_HANDLER=FALSE to disable it\n"
     ]
    },
    {
     "name": "stdout",
     "output_type": "stream",
     "text": [
      "The console stream is logged into /home/julio/sg_logs/console.log\n"
     ]
    },
    {
     "ename": "AttributeError",
     "evalue": "_ARRAY_API not found",
     "output_type": "error",
     "traceback": [
      "\u001b[0;31m---------------------------------------------------------------------------\u001b[0m",
      "\u001b[0;31mAttributeError\u001b[0m                            Traceback (most recent call last)",
      "\u001b[0;31mAttributeError\u001b[0m: _ARRAY_API not found"
     ]
    },
    {
     "ename": "SystemError",
     "evalue": "<built-in function __import__> returned a result with an exception set",
     "output_type": "error",
     "traceback": [
      "\u001b[0;31m---------------------------------------------------------------------------\u001b[0m",
      "\u001b[0;31mImportError\u001b[0m                               Traceback (most recent call last)",
      "\u001b[0;31mImportError\u001b[0m: numpy.core.multiarray failed to import",
      "\nThe above exception was the direct cause of the following exception:\n",
      "\u001b[0;31mSystemError\u001b[0m                               Traceback (most recent call last)",
      "\u001b[0;31mSystemError\u001b[0m: <built-in function __import__> returned a result with an exception set"
     ]
    },
    {
     "name": "stderr",
     "output_type": "stream",
     "text": [
      "\n",
      "A module that was compiled using NumPy 1.x cannot be run in\n",
      "NumPy 2.1.0 as it may crash. To support both 1.x and 2.x\n",
      "versions of NumPy, modules must be compiled with NumPy 2.0.\n",
      "Some module may need to rebuild instead e.g. with 'pybind11>=2.12'.\n",
      "\n",
      "If you are a user of the module, the easiest solution will be to\n",
      "downgrade to 'numpy<2' or try to upgrade the affected module.\n",
      "We expect that some modules will need time to support NumPy 2.\n",
      "\n",
      "Traceback (most recent call last):  File \"/usr/lib/python3.10/runpy.py\", line 196, in _run_module_as_main\n",
      "    return _run_code(code, main_globals, None,\n",
      "  File \"/usr/lib/python3.10/runpy.py\", line 86, in _run_code\n",
      "    exec(code, run_globals)\n",
      "  File \"/home/julio/Dev/SCG_IFSC/venv/lib/python3.10/site-packages/ipykernel_launcher.py\", line 18, in <module>\n",
      "    app.launch_new_instance()\n",
      "  File \"/home/julio/Dev/SCG_IFSC/venv/lib/python3.10/site-packages/traitlets/config/application.py\", line 1075, in launch_instance\n",
      "    app.start()\n",
      "  File \"/home/julio/Dev/SCG_IFSC/venv/lib/python3.10/site-packages/ipykernel/kernelapp.py\", line 739, in start\n",
      "    self.io_loop.start()\n",
      "  File \"/home/julio/Dev/SCG_IFSC/venv/lib/python3.10/site-packages/tornado/platform/asyncio.py\", line 205, in start\n",
      "    self.asyncio_loop.run_forever()\n",
      "  File \"/usr/lib/python3.10/asyncio/base_events.py\", line 603, in run_forever\n",
      "    self._run_once()\n",
      "  File \"/usr/lib/python3.10/asyncio/base_events.py\", line 1909, in _run_once\n",
      "    handle._run()\n",
      "  File \"/usr/lib/python3.10/asyncio/events.py\", line 80, in _run\n",
      "    self._context.run(self._callback, *self._args)\n",
      "  File \"/home/julio/Dev/SCG_IFSC/venv/lib/python3.10/site-packages/ipykernel/kernelbase.py\", line 545, in dispatch_queue\n",
      "    await self.process_one()\n",
      "  File \"/home/julio/Dev/SCG_IFSC/venv/lib/python3.10/site-packages/ipykernel/kernelbase.py\", line 534, in process_one\n",
      "    await dispatch(*args)\n",
      "  File \"/home/julio/Dev/SCG_IFSC/venv/lib/python3.10/site-packages/ipykernel/kernelbase.py\", line 437, in dispatch_shell\n",
      "    await result\n",
      "  File \"/home/julio/Dev/SCG_IFSC/venv/lib/python3.10/site-packages/ipykernel/ipkernel.py\", line 362, in execute_request\n",
      "    await super().execute_request(stream, ident, parent)\n",
      "  File \"/home/julio/Dev/SCG_IFSC/venv/lib/python3.10/site-packages/ipykernel/kernelbase.py\", line 778, in execute_request\n",
      "    reply_content = await reply_content\n",
      "  File \"/home/julio/Dev/SCG_IFSC/venv/lib/python3.10/site-packages/ipykernel/ipkernel.py\", line 449, in do_execute\n",
      "    res = shell.run_cell(\n",
      "  File \"/home/julio/Dev/SCG_IFSC/venv/lib/python3.10/site-packages/ipykernel/zmqshell.py\", line 549, in run_cell\n",
      "    return super().run_cell(*args, **kwargs)\n",
      "  File \"/home/julio/Dev/SCG_IFSC/venv/lib/python3.10/site-packages/IPython/core/interactiveshell.py\", line 3075, in run_cell\n",
      "    result = self._run_cell(\n",
      "  File \"/home/julio/Dev/SCG_IFSC/venv/lib/python3.10/site-packages/IPython/core/interactiveshell.py\", line 3130, in _run_cell\n",
      "    result = runner(coro)\n",
      "  File \"/home/julio/Dev/SCG_IFSC/venv/lib/python3.10/site-packages/IPython/core/async_helpers.py\", line 128, in _pseudo_sync_runner\n",
      "    coro.send(None)\n",
      "  File \"/home/julio/Dev/SCG_IFSC/venv/lib/python3.10/site-packages/IPython/core/interactiveshell.py\", line 3334, in run_cell_async\n",
      "    has_raised = await self.run_ast_nodes(code_ast.body, cell_name,\n",
      "  File \"/home/julio/Dev/SCG_IFSC/venv/lib/python3.10/site-packages/IPython/core/interactiveshell.py\", line 3517, in run_ast_nodes\n",
      "    if await self.run_code(code, result, async_=asy):\n",
      "  File \"/home/julio/Dev/SCG_IFSC/venv/lib/python3.10/site-packages/IPython/core/interactiveshell.py\", line 3577, in run_code\n",
      "    exec(code_obj, self.user_global_ns, self.user_ns)\n",
      "  File \"/tmp/ipykernel_31764/1629471452.py\", line 1, in <module>\n",
      "    from analyze import analyze_color_histogram\n",
      "  File \"/mnt/ssd/Dev/SCG_IFSC/scg-leaf-count/analyze.py\", line 14, in <module>\n",
      "    from scg_detection_tools.models import YOLOv8, YOLO_NAS, RoboflowModel\n",
      "  File \"/home/julio/Dev/SCG_IFSC/scg-detection-tools/src/scg_detection_tools/models.py\", line 8, in <module>\n",
      "    from super_gradients.training import models\n",
      "  File \"/home/julio/Dev/SCG_IFSC/venv/lib/python3.10/site-packages/super_gradients/__init__.py\", line 4, in <module>\n",
      "    from super_gradients.training import losses, utils, datasets_utils, DataAugmentation, Trainer, KDTrainer, QATTrainer\n",
      "  File \"/home/julio/Dev/SCG_IFSC/venv/lib/python3.10/site-packages/super_gradients/training/__init__.py\", line 2, in <module>\n",
      "    import super_gradients.training.utils.distributed_training_utils as distributed_training_utils\n",
      "  File \"/home/julio/Dev/SCG_IFSC/venv/lib/python3.10/site-packages/super_gradients/training/utils/__init__.py\", line 10, in <module>\n",
      "    from super_gradients.training.utils.checkpoint_utils import adapt_state_dict_to_fit_model_layer_names, raise_informative_runtime_error\n",
      "  File \"/home/julio/Dev/SCG_IFSC/venv/lib/python3.10/site-packages/super_gradients/training/utils/checkpoint_utils.py\", line 14, in <module>\n",
      "    from super_gradients.module_interfaces import HasPredict\n",
      "  File \"/home/julio/Dev/SCG_IFSC/venv/lib/python3.10/site-packages/super_gradients/module_interfaces/__init__.py\", line 3, in <module>\n",
      "    from .exportable_detector import ExportableObjectDetectionModel, AbstractObjectDetectionDecodingModule, ObjectDetectionModelExportResult\n",
      "  File \"/home/julio/Dev/SCG_IFSC/venv/lib/python3.10/site-packages/super_gradients/module_interfaces/exportable_detector.py\", line 10, in <module>\n",
      "    import onnxsim\n",
      "  File \"/home/julio/Dev/SCG_IFSC/venv/lib/python3.10/site-packages/onnxsim/__init__.py\", line 1, in <module>\n",
      "    from onnxsim.onnx_simplifier import simplify, main\n",
      "  File \"/home/julio/Dev/SCG_IFSC/venv/lib/python3.10/site-packages/onnxsim/onnx_simplifier.py\", line 19, in <module>\n",
      "    import onnxruntime as rt  # type: ignore\n",
      "  File \"/home/julio/Dev/SCG_IFSC/venv/lib/python3.10/site-packages/onnxruntime/__init__.py\", line 23, in <module>\n",
      "    from onnxruntime.capi._pybind_state import ExecutionMode  # noqa: F401\n",
      "  File \"/home/julio/Dev/SCG_IFSC/venv/lib/python3.10/site-packages/onnxruntime/capi/_pybind_state.py\", line 33, in <module>\n",
      "    from .onnxruntime_pybind11_state import *  # noqa\n"
     ]
    },
    {
     "name": "stdout",
     "output_type": "stream",
     "text": [
      "[WARNING]No module named 'pycocotools'\n"
     ]
    },
    {
     "name": "stderr",
     "output_type": "stream",
     "text": [
      "[2024-08-31 18:30:54] INFO - checkpoint_utils.py - Successfully loaded model weights from /home/julio/Dev/SCG_IFSC/checkpoints/yolonas/train2/ckpt_best.pth EMA checkpoint.\n"
     ]
    }
   ],
   "source": [
    "from analyze import analyze_color_histogram\n",
    "from scg_detection_tools.models import YOLO_NAS, YOLOv8\n",
    "from scg_detection_tools.detect import Detector\n",
    "from scg_detection_tools.utils.file_handling import read_yaml\n",
    "import matplotlib.pyplot as plt\n",
    "import numpy as np\n",
    "import pandas as pd\n",
    "from pandas.plotting import scatter_matrix\n",
    "import cv2\n",
    "\n",
    "cfg = read_yaml(\"analyze_config.yaml\")\n",
    "#model = YOLOv8(yolov8_ckpt_path=cfg[\"yolov8_model_path\"])\n",
    "model = YOLO_NAS(model_arch=cfg[\"yolonas_arch\"], \n",
    "                 checkpoint_path=cfg[\"yolonas_model_path\"], \n",
    "                 classes=cfg[\"data_classes\"])\n",
    "det_params = cfg[\"detect_parameters\"]\n",
    "det_params[\"embed_slice_callback\"] = None\n",
    "det = Detector(detection_model=model, detection_params=det_params)\n"
   ]
  },
  {
   "cell_type": "code",
   "execution_count": null,
   "id": "bccd930a-3420-4bd3-afa2-2dbf70c74a0c",
   "metadata": {},
   "outputs": [],
   "source": [
    "IMG_DIR = \"/home/julio/Dev/SCG_IFSC/datasets/gen-leaf-dataset-v4/train/images\"\n",
    "LBL_DIR = \"/home/julio/Dev/SCG_IFSC/datasets/gen-leaf-dataset-v4/train/labels\"\n",
    "\n",
    "imgs = [\n",
    "    #f\"{IMG_DIR}/0_640x640_png.rf.e445f1e2ec7d5f09191bbfac000f8274.jpg\",\n",
    "    #f\"{IMG_DIR}/1_640x640_png.rf.c186ca44871ae1749eec239fad71fa84.jpg\",\n",
    "    #f\"{IMG_DIR}/3_640x640_sparse_png.rf.4be15566a8c7a2ba76e1fc057f0755a3.jpg\",\n",
    "    #f\"{IMG_DIR}/e6_png.rf.517fd5fb9cbeb985254297ed7bad1d86.jpg\",\n",
    "    f\"{IMG_DIR}/copiae4.jpg\"\n",
    "]\n",
    "#dets = det(imgs[0])[0]\n",
    "print(\"New\")\n",
    "img_hists = analyze_color_histogram(model=model, detector=det, imgs=imgs, raw=False, on_detection_boxes=False, seg_annotations=LBL_DIR, cspaces=[\"RGB\", \"HSV\", \"GRAY\"], show=True)\n"
   ]
  },
  {
   "cell_type": "code",
   "execution_count": null,
   "id": "aaa552f6-f4d7-478b-875b-0e07a198ba4f",
   "metadata": {},
   "outputs": [],
   "source": [
    "#print(len(dets.xyxy))\n",
    "print(len(img_hists[imgs[0]][\"RGB\"][\"full\"]))\n",
    "print(len(img_hists[imgs[0]][\"RGB\"][\"masks\"]))\n"
   ]
  },
  {
   "cell_type": "code",
   "execution_count": null,
   "id": "ce2bb6cf-1256-4cd2-b132-47aee92ce337",
   "metadata": {},
   "outputs": [],
   "source": [
    "cspaceAnalysis = {\"RGB\": [], \"HSV\": []}\n",
    "intensities = np.arange(256)\n",
    "for img in img_hists:\n",
    "    img_hist = img_hists[img]\n",
    "    for cspace in cspaceAnalysis:\n",
    "        for mask_hist in img_hist[cspace][\"masks\"]:\n",
    "            r_hist, g_hist, b_hist = mask_hist\n",
    "                \n",
    "            r_mean = np.sum(intensities*r_hist)/np.sum(r_hist)\n",
    "            r_std = np.sqrt(np.sum((intensities - r_mean) ** 2 * r_hist) / np.sum(r_hist))\n",
    "            \n",
    "            g_mean = np.sum(intensities*g_hist)/np.sum(g_hist)\n",
    "            g_std = np.sqrt(np.sum((intensities - g_mean) ** 2 * g_hist) / np.sum(g_hist))\n",
    "                \n",
    "            b_mean = np.sum(intensities*b_hist)/np.sum(b_hist)\n",
    "            b_std = np.sqrt(np.sum((intensities - b_mean) ** 2 * b_hist) / np.sum(b_hist))\n",
    "        \n",
    "            print(r_mean, g_mean, b_mean, r_std, g_std, b_std)\n",
    "            cspaceAnalysis[cspace].append([r_mean, g_mean, b_mean, r_std, g_std, b_std, cspace])\n",
    "\n",
    "def channels_statis(img_hists, cspaces=[\"RGB\", \"HSV\", \n",
    "\n",
    "\n",
    "rgbdf = pd.DataFrame(cspaceAnalysis[\"RGB\"], columns=[\n",
    "    \"R Mean\", \"G Mean\", \"B Mean\", \"R std\", \"G std\", \"B std\", \"ColorSpace\"\n",
    "])\n",
    "hsvdf = pd.DataFrame(cspaceAnalysis[\"HSV\"], columns=[\n",
    "    \"H Mean\", \"S Mean\", \"V Mean\", \"H std\", \"S std\", \"V std\", \"ColorSpace\"\n",
    "])\n",
    "\n",
    "scatter_matrix(rgbdf.iloc[:,:-1], figsize=(12,12), diagonal=\"kde\")\n",
    "scatter_matrix(hsvdf.iloc[:,:-1], figsize=(12,12), diagonal=\"kde\")\n",
    "\n",
    "print(rgbdf.corr(numeric_only=True))\n",
    "print(hsvdf.corr(numeric_only=True))"
   ]
  },
  {
   "cell_type": "markdown",
   "id": "478f269d-4b5a-4ee7-a059-1e375344c8df",
   "metadata": {},
   "source": [
    "# Pixel density"
   ]
  },
  {
   "cell_type": "code",
   "execution_count": null,
   "id": "d8fa0ce2-ddfd-49c4-81cd-5e3d6cd0d682",
   "metadata": {},
   "outputs": [
    {
     "name": "stderr",
     "output_type": "stream",
     "text": [
      "[2024-08-31 18:30:58] INFO - build_sam.py - Loaded checkpoint sucessfully\n",
      "User provided device_type of 'cuda', but CUDA is not available. Disabling\n",
      "[2024-08-31 18:30:58] INFO - pipelines.py - Fusing some of the model's layers. If this takes too much memory, you can deactivate it by setting `fuse_model=False`\n",
      "[W831 18:30:58.998895340 NNPACK.cpp:61] Could not initialize NNPACK! Reason: Unsupported hardware.\n"
     ]
    }
   ],
   "source": [
    "from analyze import analyze_pixel_density\n",
    "\n",
    "IMG_DIR = \"/home/julio/Dev/SCG_IFSC/scg-leaf-count/imgs/test\"\n",
    "LBL_DIR = \"/home/julio/Dev/SCG_IFSC/scg-leaf-count/imgs/testlabels\"\n",
    "\n",
    "imgs = [\n",
    "    f\"{IMG_DIR}/e1.png\",\n",
    "    f\"{IMG_DIR}/e3.png\",\n",
    "    f\"{IMG_DIR}/e4.png\",\n",
    "]\n",
    "\n",
    "densities = analyze_pixel_density(model=model, \n",
    "                                  detector=det, \n",
    "                                  imgs=imgs, \n",
    "                                  cfg=cfg, \n",
    "                                  on_slice=False, \n",
    "                                  on_detection_boxes=False,\n",
    "                                  on_crops=True,\n",
    "                                  seg_annotations=None, \n",
    "                                  save_detections=False)\n",
    "print(densities)"
   ]
  }
 ],
 "metadata": {
  "kernelspec": {
   "display_name": "Python 3 (ipykernel)",
   "language": "python",
   "name": "python3"
  },
  "language_info": {
   "codemirror_mode": {
    "name": "ipython",
    "version": 3
   },
   "file_extension": ".py",
   "mimetype": "text/x-python",
   "name": "python",
   "nbconvert_exporter": "python",
   "pygments_lexer": "ipython3",
   "version": "3.10.14"
  }
 },
 "nbformat": 4,
 "nbformat_minor": 5
}
